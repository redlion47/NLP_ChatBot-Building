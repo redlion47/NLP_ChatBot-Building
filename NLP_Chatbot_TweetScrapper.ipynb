{
 "cells": [
  {
   "cell_type": "code",
   "execution_count": 29,
   "metadata": {},
   "outputs": [],
   "source": [
    "# Import Tweeter APIs\n",
    "import tweepy as tp\n",
    "import GetOldTweets3 as got\n",
    "\n",
    "#Import pandas to save as a csv file\n",
    "import pandas as pd\n"
   ]
  },
  {
   "cell_type": "code",
   "execution_count": 30,
   "metadata": {},
   "outputs": [],
   "source": [
    "#Twitter API access token and consumer key with their authentication code\n",
    "consumer_key = \"lp7R64pjGZ1nvO3HCPktir1RX\"\n",
    "consumer_secret = \"TyhGYXHVzeu0PPZOAM5TVmEn69VOTLVqFirMW8vgXGHLyBj5mQ\"\n",
    "access_token = \"609115528-ZlxULQ6v1bJOSoh44J99vZMob0mtXDiCNWZQ28cC\"\n",
    "access_secret = \"P2X1lnsWTsim0VJOwWeXOmZbkmfMzqsHoLnXmdapjQJzg\"\n",
    "\n",
    "#Access the Twittere API\n",
    "auth = tp.OAuthHandler(consumer_key, consumer_secret)\n",
    "auth.set_access_token(access_token, access_secret)\n",
    "api = tp.API(auth, wait_on_rate_limit=True)"
   ]
  },
  {
   "cell_type": "code",
   "execution_count": 31,
   "metadata": {},
   "outputs": [],
   "source": [
    "#Key words to search for and maximum tweets to return\n",
    "tweet_query = ['#vacancy','#ikokazike','#job']\n",
    "count = 20000"
   ]
  },
  {
   "cell_type": "code",
   "execution_count": 32,
   "metadata": {},
   "outputs": [
    {
     "name": "stdout",
     "output_type": "stream",
     "text": [
      "7182\n",
      "4175\n",
      "2108\n"
     ]
    }
   ],
   "source": [
    "#Scrap for tweets with search terms\n",
    "job_tweets = []\n",
    "for t_query in tweet_query:\n",
    "    tweetCriteria = got.manager.TweetCriteria().setQuerySearch(t_query)\\\n",
    "                                                .setMaxTweets(count)\n",
    "    tweets = got.manager.TweetManager.getTweets(tweetCriteria)\n",
    "    tweets_lst = [[tw.date, tw.text, tw.username, tw.retweets, tw.favorites, tw.geo] for tw in tweets]\n",
    "    job_tweets.extend(tweets_lst)\n",
    "    print(len(tweets_lst))"
   ]
  },
  {
   "cell_type": "code",
   "execution_count": 33,
   "metadata": {},
   "outputs": [
    {
     "data": {
      "text/html": [
       "<div>\n",
       "<style scoped>\n",
       "    .dataframe tbody tr th:only-of-type {\n",
       "        vertical-align: middle;\n",
       "    }\n",
       "\n",
       "    .dataframe tbody tr th {\n",
       "        vertical-align: top;\n",
       "    }\n",
       "\n",
       "    .dataframe thead th {\n",
       "        text-align: right;\n",
       "    }\n",
       "</style>\n",
       "<table border=\"1\" class=\"dataframe\">\n",
       "  <thead>\n",
       "    <tr style=\"text-align: right;\">\n",
       "      <th></th>\n",
       "      <th>Date</th>\n",
       "      <th>Post</th>\n",
       "      <th>Username</th>\n",
       "      <th>Retweets</th>\n",
       "      <th>Favorites</th>\n",
       "      <th>Geo</th>\n",
       "    </tr>\n",
       "  </thead>\n",
       "  <tbody>\n",
       "    <tr>\n",
       "      <th>6287</th>\n",
       "      <td>2020-06-19 05:06:52+00:00</td>\n",
       "      <td>#Sarkarinaukri #Govtjobs #Jobs #Vacancy #SSC20...</td>\n",
       "      <td>cgtop36</td>\n",
       "      <td>2</td>\n",
       "      <td>1</td>\n",
       "      <td></td>\n",
       "    </tr>\n",
       "    <tr>\n",
       "      <th>9555</th>\n",
       "      <td>2020-07-08 07:20:31+00:00</td>\n",
       "      <td>#IkoKaziKE</td>\n",
       "      <td>AlexeeSam</td>\n",
       "      <td>0</td>\n",
       "      <td>1</td>\n",
       "      <td></td>\n",
       "    </tr>\n",
       "    <tr>\n",
       "      <th>584</th>\n",
       "      <td>2020-07-16 14:30:53+00:00</td>\n",
       "      <td>#vacature: we zoeken een HR-adviseur en een Pr...</td>\n",
       "      <td>dorcashulp</td>\n",
       "      <td>3</td>\n",
       "      <td>2</td>\n",
       "      <td></td>\n",
       "    </tr>\n",
       "    <tr>\n",
       "      <th>3668</th>\n",
       "      <td>2020-07-02 23:00:20+00:00</td>\n",
       "      <td>text AMMZ to GOARMY (462-769) or click the lin...</td>\n",
       "      <td>ArmyTeamAtlanta</td>\n",
       "      <td>0</td>\n",
       "      <td>0</td>\n",
       "      <td></td>\n",
       "    </tr>\n",
       "    <tr>\n",
       "      <th>840</th>\n",
       "      <td>2020-07-16 05:00:24+00:00</td>\n",
       "      <td>07808 645 181 | team@therecruitmentlounge.com ...</td>\n",
       "      <td>RecruitLounge</td>\n",
       "      <td>2</td>\n",
       "      <td>1</td>\n",
       "      <td></td>\n",
       "    </tr>\n",
       "    <tr>\n",
       "      <th>2296</th>\n",
       "      <td>2020-07-10 07:01:27+00:00</td>\n",
       "      <td>Deputy Manager #vacancy with @BalhousieCare ba...</td>\n",
       "      <td>JCPinNorthScot</td>\n",
       "      <td>0</td>\n",
       "      <td>0</td>\n",
       "      <td></td>\n",
       "    </tr>\n",
       "    <tr>\n",
       "      <th>1126</th>\n",
       "      <td>2020-07-15 07:34:51+00:00</td>\n",
       "      <td>New #vacancy #DoubleBass @AntwerpSymphony Antw...</td>\n",
       "      <td>muvac</td>\n",
       "      <td>0</td>\n",
       "      <td>0</td>\n",
       "      <td></td>\n",
       "    </tr>\n",
       "    <tr>\n",
       "      <th>10683</th>\n",
       "      <td>2020-07-01 08:21:27+00:00</td>\n",
       "      <td>Health Records Officer https://hreastafrica.co...</td>\n",
       "      <td>kevo_kinyanjui</td>\n",
       "      <td>0</td>\n",
       "      <td>0</td>\n",
       "      <td></td>\n",
       "    </tr>\n",
       "    <tr>\n",
       "      <th>13283</th>\n",
       "      <td>2020-07-18 07:42:26+00:00</td>\n",
       "      <td>RT @PremiseSara: We need #strong #leaders in #...</td>\n",
       "      <td>TV_HIEC_Chair</td>\n",
       "      <td>0</td>\n",
       "      <td>0</td>\n",
       "      <td></td>\n",
       "    </tr>\n",
       "    <tr>\n",
       "      <th>12818</th>\n",
       "      <td>2020-07-18 11:13:24+00:00</td>\n",
       "      <td>ServiceNow is looking for: Senior Software Eng...</td>\n",
       "      <td>DanielWaite_NOW</td>\n",
       "      <td>0</td>\n",
       "      <td>0</td>\n",
       "      <td></td>\n",
       "    </tr>\n",
       "  </tbody>\n",
       "</table>\n",
       "</div>"
      ],
      "text/plain": [
       "                           Date  \\\n",
       "6287  2020-06-19 05:06:52+00:00   \n",
       "9555  2020-07-08 07:20:31+00:00   \n",
       "584   2020-07-16 14:30:53+00:00   \n",
       "3668  2020-07-02 23:00:20+00:00   \n",
       "840   2020-07-16 05:00:24+00:00   \n",
       "2296  2020-07-10 07:01:27+00:00   \n",
       "1126  2020-07-15 07:34:51+00:00   \n",
       "10683 2020-07-01 08:21:27+00:00   \n",
       "13283 2020-07-18 07:42:26+00:00   \n",
       "12818 2020-07-18 11:13:24+00:00   \n",
       "\n",
       "                                                    Post         Username  \\\n",
       "6287   #Sarkarinaukri #Govtjobs #Jobs #Vacancy #SSC20...          cgtop36   \n",
       "9555                                          #IkoKaziKE        AlexeeSam   \n",
       "584    #vacature: we zoeken een HR-adviseur en een Pr...       dorcashulp   \n",
       "3668   text AMMZ to GOARMY (462-769) or click the lin...  ArmyTeamAtlanta   \n",
       "840    07808 645 181 | team@therecruitmentlounge.com ...    RecruitLounge   \n",
       "2296   Deputy Manager #vacancy with @BalhousieCare ba...   JCPinNorthScot   \n",
       "1126   New #vacancy #DoubleBass @AntwerpSymphony Antw...            muvac   \n",
       "10683  Health Records Officer https://hreastafrica.co...   kevo_kinyanjui   \n",
       "13283  RT @PremiseSara: We need #strong #leaders in #...    TV_HIEC_Chair   \n",
       "12818  ServiceNow is looking for: Senior Software Eng...  DanielWaite_NOW   \n",
       "\n",
       "       Retweets  Favorites Geo  \n",
       "6287          2          1      \n",
       "9555          0          1      \n",
       "584           3          2      \n",
       "3668          0          0      \n",
       "840           2          1      \n",
       "2296          0          0      \n",
       "1126          0          0      \n",
       "10683         0          0      \n",
       "13283         0          0      \n",
       "12818         0          0      "
      ]
     },
     "execution_count": 33,
     "metadata": {},
     "output_type": "execute_result"
    }
   ],
   "source": [
    "#Convert scrapped results to dataframe\n",
    "tweets_df = pd.DataFrame(job_tweets, columns=[\"Date\", \"Post\", \"Username\",\"Retweets\", \"Favorites\", \"Geo\"])\n",
    "tweets_df.sample(10)"
   ]
  },
  {
   "cell_type": "code",
   "execution_count": 34,
   "metadata": {},
   "outputs": [
    {
     "data": {
      "text/plain": [
       "Date         13465\n",
       "Post         13465\n",
       "Username     13465\n",
       "Retweets     13465\n",
       "Favorites    13465\n",
       "Geo          13465\n",
       "dtype: int64"
      ]
     },
     "execution_count": 34,
     "metadata": {},
     "output_type": "execute_result"
    }
   ],
   "source": [
    "tweets_df.count()"
   ]
  },
  {
   "cell_type": "code",
   "execution_count": 35,
   "metadata": {},
   "outputs": [],
   "source": [
    "#Save scrapped data in a csv file\n",
    "tweets_df.to_csv(path_or_buf=\"TweetsScrapped_JobChatbot.csv\", index_label=\"index\")"
   ]
  }
 ],
 "metadata": {
  "kernelspec": {
   "display_name": "Python 3",
   "language": "python",
   "name": "python3"
  },
  "language_info": {
   "codemirror_mode": {
    "name": "ipython",
    "version": 3
   },
   "file_extension": ".py",
   "mimetype": "text/x-python",
   "name": "python",
   "nbconvert_exporter": "python",
   "pygments_lexer": "ipython3",
   "version": "3.7.0"
  }
 },
 "nbformat": 4,
 "nbformat_minor": 2
}
