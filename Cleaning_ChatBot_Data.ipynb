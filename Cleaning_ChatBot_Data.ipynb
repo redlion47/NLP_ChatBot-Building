{
 "cells": [
  {
   "cell_type": "code",
   "execution_count": 1,
   "metadata": {},
   "outputs": [],
   "source": [
    "import numpy as np\n",
    "import pandas as pd\n",
    "import matplotlib as mp\n",
    "import nltk\n",
    "import re\n",
    "import seaborn as sns\n",
    "import warnings\n",
    "\n",
    "\n",
    "import string\n",
    "\n",
    "from wordcloud import WordCloud,STOPWORDS\n",
    "\n",
    "from bs4 import BeautifulSoup\n",
    "\n",
    "warnings.filterwarnings(\"ignore\", category=DeprecationWarning)\n",
    "\n",
    "%matplotlib inline"
   ]
  },
  {
   "cell_type": "code",
   "execution_count": 12,
   "metadata": {},
   "outputs": [
    {
     "data": {
      "text/html": [
       "<div>\n",
       "<style scoped>\n",
       "    .dataframe tbody tr th:only-of-type {\n",
       "        vertical-align: middle;\n",
       "    }\n",
       "\n",
       "    .dataframe tbody tr th {\n",
       "        vertical-align: top;\n",
       "    }\n",
       "\n",
       "    .dataframe thead th {\n",
       "        text-align: right;\n",
       "    }\n",
       "</style>\n",
       "<table border=\"1\" class=\"dataframe\">\n",
       "  <thead>\n",
       "    <tr style=\"text-align: right;\">\n",
       "      <th></th>\n",
       "      <th>Datetime</th>\n",
       "      <th>Text</th>\n",
       "      <th>Source</th>\n",
       "      <th>harsh tag</th>\n",
       "      <th>Favourite Count</th>\n",
       "      <th>Retweets</th>\n",
       "      <th>6</th>\n",
       "      <th>7</th>\n",
       "      <th>submitter_name</th>\n",
       "    </tr>\n",
       "  </thead>\n",
       "  <tbody>\n",
       "    <tr>\n",
       "      <th>20624</th>\n",
       "      <td>2020-07-18 13:53:54+00:00</td>\n",
       "      <td>Splash Damage is looking for: Senior Gameplay ...</td>\n",
       "      <td>AlixFong</td>\n",
       "      <td>NaN</td>\n",
       "      <td>0.0</td>\n",
       "      <td>0.0</td>\n",
       "      <td>0.0</td>\n",
       "      <td>0.0</td>\n",
       "      <td>Eric Nzivo</td>\n",
       "    </tr>\n",
       "    <tr>\n",
       "      <th>10934</th>\n",
       "      <td>2020-07-08 09:46:06+00:00</td>\n",
       "      <td>#Vacancy: FEPS is recruiting one #accountant. ...</td>\n",
       "      <td>FEPS_Europe</td>\n",
       "      <td>NaN</td>\n",
       "      <td>6.0</td>\n",
       "      <td>4.0</td>\n",
       "      <td>0.0</td>\n",
       "      <td>0.0</td>\n",
       "      <td>Eric Nzivo</td>\n",
       "    </tr>\n",
       "    <tr>\n",
       "      <th>25992</th>\n",
       "      <td>7/16/2020 6:11</td>\n",
       "      <td>Aluminium Bathroom door.\\r\\nUpgrading and fitt...</td>\n",
       "      <td>Nairobi, Kenya</td>\n",
       "      <td>[]</td>\n",
       "      <td>23154.0</td>\n",
       "      <td>6.0</td>\n",
       "      <td>7.0</td>\n",
       "      <td>0.0</td>\n",
       "      <td>Henry Gathuri</td>\n",
       "    </tr>\n",
       "    <tr>\n",
       "      <th>26895</th>\n",
       "      <td>07/10/2020 16:27</td>\n",
       "      <td>Are you a qualified writer intern? @CampoeKE j...</td>\n",
       "      <td>Kenya</td>\n",
       "      <td>[]</td>\n",
       "      <td>6652.0</td>\n",
       "      <td>0.0</td>\n",
       "      <td>0.0</td>\n",
       "      <td>0.0</td>\n",
       "      <td>Henry Gathuri</td>\n",
       "    </tr>\n",
       "    <tr>\n",
       "      <th>13321</th>\n",
       "      <td>2020-06-25 10:55:16+00:00</td>\n",
       "      <td>UPS is #hiring a Package Delivery Driver in Mi...</td>\n",
       "      <td>joblify_app</td>\n",
       "      <td>NaN</td>\n",
       "      <td>0.0</td>\n",
       "      <td>0.0</td>\n",
       "      <td>0.0</td>\n",
       "      <td>0.0</td>\n",
       "      <td>Eric Nzivo</td>\n",
       "    </tr>\n",
       "    <tr>\n",
       "      <th>4420</th>\n",
       "      <td>2020-07-17 06:02:10+00:00</td>\n",
       "      <td>Job Hunting can be emotionally draining . To e...</td>\n",
       "      <td>Simon_Ingari</td>\n",
       "      <td>NaN</td>\n",
       "      <td>1.0</td>\n",
       "      <td>0.0</td>\n",
       "      <td>4342.0</td>\n",
       "      <td>4994.0</td>\n",
       "      <td>Dennis Mwaniki</td>\n",
       "    </tr>\n",
       "    <tr>\n",
       "      <th>21907</th>\n",
       "      <td>2020-07-15 22:07:06+00:00</td>\n",
       "      <td>Looking for more job opportunities? Check out ...</td>\n",
       "      <td>KaziQuest</td>\n",
       "      <td>NaN</td>\n",
       "      <td>1.0</td>\n",
       "      <td>0.0</td>\n",
       "      <td>0.0</td>\n",
       "      <td>0.0</td>\n",
       "      <td>Eunice Mutahi</td>\n",
       "    </tr>\n",
       "    <tr>\n",
       "      <th>20606</th>\n",
       "      <td>2020-07-18 14:00:08+00:00</td>\n",
       "      <td>New #job: CNC MACHINIST - FITTER MACHINIST - T...</td>\n",
       "      <td>RECRUITAU</td>\n",
       "      <td>NaN</td>\n",
       "      <td>0.0</td>\n",
       "      <td>0.0</td>\n",
       "      <td>0.0</td>\n",
       "      <td>0.0</td>\n",
       "      <td>Eric Nzivo</td>\n",
       "    </tr>\n",
       "    <tr>\n",
       "      <th>10456</th>\n",
       "      <td>2020-07-10 07:58:44+00:00</td>\n",
       "      <td>Two exciting #opportunities @Broxtowewomen #VA...</td>\n",
       "      <td>BroxtoweCAB</td>\n",
       "      <td>NaN</td>\n",
       "      <td>2.0</td>\n",
       "      <td>2.0</td>\n",
       "      <td>0.0</td>\n",
       "      <td>0.0</td>\n",
       "      <td>Eric Nzivo</td>\n",
       "    </tr>\n",
       "    <tr>\n",
       "      <th>21643</th>\n",
       "      <td>2020-07-17 08:06:16+00:00</td>\n",
       "      <td>#IkoKaziKE I need someone to quote for me how ...</td>\n",
       "      <td>qathuryma</td>\n",
       "      <td>NaN</td>\n",
       "      <td>0.0</td>\n",
       "      <td>1.0</td>\n",
       "      <td>0.0</td>\n",
       "      <td>0.0</td>\n",
       "      <td>Eunice Mutahi</td>\n",
       "    </tr>\n",
       "  </tbody>\n",
       "</table>\n",
       "</div>"
      ],
      "text/plain": [
       "                        Datetime  \\\n",
       "20624  2020-07-18 13:53:54+00:00   \n",
       "10934  2020-07-08 09:46:06+00:00   \n",
       "25992             7/16/2020 6:11   \n",
       "26895           07/10/2020 16:27   \n",
       "13321  2020-06-25 10:55:16+00:00   \n",
       "4420   2020-07-17 06:02:10+00:00   \n",
       "21907  2020-07-15 22:07:06+00:00   \n",
       "20606  2020-07-18 14:00:08+00:00   \n",
       "10456  2020-07-10 07:58:44+00:00   \n",
       "21643  2020-07-17 08:06:16+00:00   \n",
       "\n",
       "                                                    Text          Source  \\\n",
       "20624  Splash Damage is looking for: Senior Gameplay ...        AlixFong   \n",
       "10934  #Vacancy: FEPS is recruiting one #accountant. ...     FEPS_Europe   \n",
       "25992  Aluminium Bathroom door.\\r\\nUpgrading and fitt...  Nairobi, Kenya   \n",
       "26895  Are you a qualified writer intern? @CampoeKE j...           Kenya   \n",
       "13321  UPS is #hiring a Package Delivery Driver in Mi...     joblify_app   \n",
       "4420   Job Hunting can be emotionally draining . To e...    Simon_Ingari   \n",
       "21907  Looking for more job opportunities? Check out ...       KaziQuest   \n",
       "20606  New #job: CNC MACHINIST - FITTER MACHINIST - T...       RECRUITAU   \n",
       "10456  Two exciting #opportunities @Broxtowewomen #VA...     BroxtoweCAB   \n",
       "21643  #IkoKaziKE I need someone to quote for me how ...       qathuryma   \n",
       "\n",
       "      harsh tag  Favourite Count  Retweets       6       7  submitter_name  \n",
       "20624       NaN              0.0       0.0     0.0     0.0      Eric Nzivo  \n",
       "10934       NaN              6.0       4.0     0.0     0.0      Eric Nzivo  \n",
       "25992        []          23154.0       6.0     7.0     0.0   Henry Gathuri  \n",
       "26895        []           6652.0       0.0     0.0     0.0   Henry Gathuri  \n",
       "13321       NaN              0.0       0.0     0.0     0.0      Eric Nzivo  \n",
       "4420        NaN              1.0       0.0  4342.0  4994.0  Dennis Mwaniki  \n",
       "21907       NaN              1.0       0.0     0.0     0.0   Eunice Mutahi  \n",
       "20606       NaN              0.0       0.0     0.0     0.0      Eric Nzivo  \n",
       "10456       NaN              2.0       2.0     0.0     0.0      Eric Nzivo  \n",
       "21643       NaN              0.0       1.0     0.0     0.0   Eunice Mutahi  "
      ]
     },
     "execution_count": 12,
     "metadata": {},
     "output_type": "execute_result"
    }
   ],
   "source": [
    "job_df = pd.read_csv(r\"datasets/twitter-job-hunter-chatbot.csv\", parse_dates=True, engine=\"python\")\n",
    "job_df.sample(10)"
   ]
  },
  {
   "cell_type": "code",
   "execution_count": 13,
   "metadata": {},
   "outputs": [
    {
     "name": "stdout",
     "output_type": "stream",
     "text": [
      "6 2\n",
      "7 1\n",
      "8 2\n",
      "9 2\n",
      "10 223\n"
     ]
    }
   ],
   "source": [
    "#Testing enumerate function on how it works.\n",
    "lst= [1,2,21,4,43,1,2,1,2,2,223,5,6,7,8,7,34,6,45,776,655,454]\n",
    "for x,y in enumerate(lst):\n",
    "    if x <11 and x>5:\n",
    "        print(x,y)"
   ]
  },
  {
   "cell_type": "code",
   "execution_count": 14,
   "metadata": {},
   "outputs": [
    {
     "data": {
      "text/plain": [
       "True"
      ]
     },
     "execution_count": 14,
     "metadata": {},
     "output_type": "execute_result"
    }
   ],
   "source": [
    "job_df.isnull().values.any()"
   ]
  },
  {
   "cell_type": "code",
   "execution_count": 15,
   "metadata": {},
   "outputs": [
    {
     "data": {
      "text/plain": [
       "False"
      ]
     },
     "execution_count": 15,
     "metadata": {},
     "output_type": "execute_result"
    }
   ],
   "source": [
    "job_df['Text'].isnull().values.any()"
   ]
  },
  {
   "cell_type": "code",
   "execution_count": 16,
   "metadata": {},
   "outputs": [
    {
     "data": {
      "text/plain": [
       "True"
      ]
     },
     "execution_count": 16,
     "metadata": {},
     "output_type": "execute_result"
    }
   ],
   "source": [
    "job_df['Source'].isnull().values.any()"
   ]
  },
  {
   "cell_type": "code",
   "execution_count": 17,
   "metadata": {},
   "outputs": [
    {
     "data": {
      "text/plain": [
       "False"
      ]
     },
     "execution_count": 17,
     "metadata": {},
     "output_type": "execute_result"
    }
   ],
   "source": [
    "job_df = job_df[~job_df['Source'].isnull()]\n",
    "job_df['Source'].isnull().values.any()"
   ]
  },
  {
   "cell_type": "code",
   "execution_count": 18,
   "metadata": {},
   "outputs": [
    {
     "data": {
      "text/html": [
       "<div>\n",
       "<style scoped>\n",
       "    .dataframe tbody tr th:only-of-type {\n",
       "        vertical-align: middle;\n",
       "    }\n",
       "\n",
       "    .dataframe tbody tr th {\n",
       "        vertical-align: top;\n",
       "    }\n",
       "\n",
       "    .dataframe thead th {\n",
       "        text-align: right;\n",
       "    }\n",
       "</style>\n",
       "<table border=\"1\" class=\"dataframe\">\n",
       "  <thead>\n",
       "    <tr style=\"text-align: right;\">\n",
       "      <th></th>\n",
       "      <th>Datetime</th>\n",
       "      <th>Text</th>\n",
       "      <th>Source</th>\n",
       "    </tr>\n",
       "  </thead>\n",
       "  <tbody>\n",
       "    <tr>\n",
       "      <th>28082</th>\n",
       "      <td>13/07/2020 17:09</td>\n",
       "      <td>@pazuri_fashion on Instagram is looking for si...</td>\n",
       "      <td>TðŸŒ¸</td>\n",
       "    </tr>\n",
       "    <tr>\n",
       "      <th>7653</th>\n",
       "      <td>2020-06-30 10:35:08+00:00</td>\n",
       "      <td>KOT: For all your phone repairs, laptops and s...</td>\n",
       "      <td>Charleswahinya_</td>\n",
       "    </tr>\n",
       "    <tr>\n",
       "      <th>17504</th>\n",
       "      <td>2020-07-08 17:55:40+00:00</td>\n",
       "      <td>Job Hunting can be emotionally draining . To e...</td>\n",
       "      <td>Simon_Ingari</td>\n",
       "    </tr>\n",
       "    <tr>\n",
       "      <th>14555</th>\n",
       "      <td>2020-06-18 12:20:04+00:00</td>\n",
       "      <td>We are looking for a Tax Manager and Personal ...</td>\n",
       "      <td>HWNorwich</td>\n",
       "    </tr>\n",
       "    <tr>\n",
       "      <th>27163</th>\n",
       "      <td>18/07/2020 15:09</td>\n",
       "      <td>RT @moseslucas2: For The Best Car Deals, â˜Žï¸...</td>\n",
       "      <td>Twitter Web App</td>\n",
       "    </tr>\n",
       "    <tr>\n",
       "      <th>1454</th>\n",
       "      <td>17/07/2020 18:15</td>\n",
       "      <td>#newjob alert! We are looking for a #Bartender...</td>\n",
       "      <td>TweetDeck</td>\n",
       "    </tr>\n",
       "    <tr>\n",
       "      <th>2606</th>\n",
       "      <td>17/07/2020 17:54</td>\n",
       "      <td>RT @tbsrecruiters: TBS Pro Tip: Itâ€™s easy to...</td>\n",
       "      <td>Twitter Web App</td>\n",
       "    </tr>\n",
       "    <tr>\n",
       "      <th>814</th>\n",
       "      <td>17/07/2020 18:14</td>\n",
       "      <td>RT @CareersWestMids: If you're looking for som...</td>\n",
       "      <td>TweetCaster for Android</td>\n",
       "    </tr>\n",
       "    <tr>\n",
       "      <th>17970</th>\n",
       "      <td>2020-07-07 09:05:24+00:00</td>\n",
       "      <td>Hello guys assist me to get followers: Retweet...</td>\n",
       "      <td>riziki_pendo</td>\n",
       "    </tr>\n",
       "    <tr>\n",
       "      <th>19856</th>\n",
       "      <td>2020-07-18 19:19:10+00:00</td>\n",
       "      <td>New #jobs added! Find your #dream role today o...</td>\n",
       "      <td>VentureFizz</td>\n",
       "    </tr>\n",
       "  </tbody>\n",
       "</table>\n",
       "</div>"
      ],
      "text/plain": [
       "                        Datetime  \\\n",
       "28082           13/07/2020 17:09   \n",
       "7653   2020-06-30 10:35:08+00:00   \n",
       "17504  2020-07-08 17:55:40+00:00   \n",
       "14555  2020-06-18 12:20:04+00:00   \n",
       "27163           18/07/2020 15:09   \n",
       "1454            17/07/2020 18:15   \n",
       "2606            17/07/2020 17:54   \n",
       "814             17/07/2020 18:14   \n",
       "17970  2020-07-07 09:05:24+00:00   \n",
       "19856  2020-07-18 19:19:10+00:00   \n",
       "\n",
       "                                                    Text  \\\n",
       "28082  @pazuri_fashion on Instagram is looking for si...   \n",
       "7653   KOT: For all your phone repairs, laptops and s...   \n",
       "17504  Job Hunting can be emotionally draining . To e...   \n",
       "14555  We are looking for a Tax Manager and Personal ...   \n",
       "27163  RT @moseslucas2: For The Best Car Deals, â˜Žï¸...   \n",
       "1454   #newjob alert! We are looking for a #Bartender...   \n",
       "2606   RT @tbsrecruiters: TBS Pro Tip: Itâ€™s easy to...   \n",
       "814    RT @CareersWestMids: If you're looking for som...   \n",
       "17970  Hello guys assist me to get followers: Retweet...   \n",
       "19856  New #jobs added! Find your #dream role today o...   \n",
       "\n",
       "                        Source  \n",
       "28082                    TðŸŒ¸  \n",
       "7653           Charleswahinya_  \n",
       "17504             Simon_Ingari  \n",
       "14555                HWNorwich  \n",
       "27163          Twitter Web App  \n",
       "1454                 TweetDeck  \n",
       "2606           Twitter Web App  \n",
       "814    TweetCaster for Android  \n",
       "17970             riziki_pendo  \n",
       "19856              VentureFizz  "
      ]
     },
     "execution_count": 18,
     "metadata": {},
     "output_type": "execute_result"
    }
   ],
   "source": [
    "job_df = job_df[[\"Datetime\",'Text', \"Source\"]]\n",
    "job_df.sample(10)"
   ]
  },
  {
   "cell_type": "code",
   "execution_count": 19,
   "metadata": {},
   "outputs": [],
   "source": [
    "def lower_token(tokens):\n",
    "    return [w.lower() for w in tokens]"
   ]
  },
  {
   "cell_type": "code",
   "execution_count": 20,
   "metadata": {},
   "outputs": [],
   "source": [
    "def removeStopWords(tokens):\n",
    "    stoplist = stopwords.words('english')\n",
    "    return [word for word in tokens if word not in stoplist]"
   ]
  },
  {
   "cell_type": "code",
   "execution_count": null,
   "metadata": {},
   "outputs": [],
   "source": [
    "def cleaning(message):\n",
    "    # removing any html tags available\n",
    "    html_text = BeautifulSoup(message, \"html.parser\").get_text()\n",
    "    \n",
    "    # Removing capital letters\n",
    "    letters = html_text.lower()\n",
    "    \n",
    "    # Removing numbers and special characters\n",
    "    letters = re.sub\n",
    "    "
   ]
  }
 ],
 "metadata": {
  "kernelspec": {
   "display_name": "Python 3",
   "language": "python",
   "name": "python3"
  },
  "language_info": {
   "codemirror_mode": {
    "name": "ipython",
    "version": 3
   },
   "file_extension": ".py",
   "mimetype": "text/x-python",
   "name": "python",
   "nbconvert_exporter": "python",
   "pygments_lexer": "ipython3",
   "version": "3.7.0"
  }
 },
 "nbformat": 4,
 "nbformat_minor": 2
}
